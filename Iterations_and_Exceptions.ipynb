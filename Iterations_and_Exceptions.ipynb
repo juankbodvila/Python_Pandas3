{
 "cells": [
  {
   "cell_type": "markdown",
   "id": "89ac346f",
   "metadata": {},
   "source": [
    "## For Loops"
   ]
  },
  {
   "cell_type": "code",
   "execution_count": 1,
   "id": "50e0a3ac",
   "metadata": {},
   "outputs": [],
   "source": [
    "ciudades = ['Ginebra','Torino','Niza','Annecy']"
   ]
  },
  {
   "cell_type": "code",
   "execution_count": 3,
   "id": "206736e9",
   "metadata": {},
   "outputs": [
    {
     "name": "stdout",
     "output_type": "stream",
     "text": [
      "Ginebra\n",
      "Torino\n",
      "Niza\n",
      "Annecy\n"
     ]
    }
   ],
   "source": [
    "for ciudad in ciudades:\n",
    "    print(ciudad)"
   ]
  },
  {
   "cell_type": "markdown",
   "id": "82386dc0",
   "metadata": {},
   "source": [
    "## While Loops"
   ]
  },
  {
   "cell_type": "code",
   "execution_count": 10,
   "id": "bfad304f",
   "metadata": {},
   "outputs": [],
   "source": [
    "import time #importing time library to use time.sleep function"
   ]
  },
  {
   "cell_type": "code",
   "execution_count": 11,
   "id": "73cb50a4",
   "metadata": {},
   "outputs": [
    {
     "name": "stdout",
     "output_type": "stream",
     "text": [
      "el numero ahora es 1\n",
      "el numero ahora es 2\n",
      "el numero ahora es 3\n",
      "el numero ahora es 4\n",
      "el numero ahora es 5\n"
     ]
    }
   ],
   "source": [
    "numero = 0 #initial value\n",
    "while numero < 5: #establishing the initial value\n",
    "    numero +=1 #adding up the number\n",
    "    time.sleep(1) # waiting 1 second for the print function\n",
    "    print(f'el numero ahora es {numero}')"
   ]
  },
  {
   "cell_type": "markdown",
   "id": "4692abe3",
   "metadata": {},
   "source": [
    "## Iterating over a dictionary"
   ]
  },
  {
   "cell_type": "code",
   "execution_count": 12,
   "id": "c4f33426",
   "metadata": {},
   "outputs": [],
   "source": [
    "movies = {\n",
    "    'Name':'Star Wars',\n",
    "    'Director': 'George Lucas',\n",
    "    'Year':1977,\n",
    "    'Production':'20th Century Fox'\n",
    "}"
   ]
  },
  {
   "cell_type": "code",
   "execution_count": 17,
   "id": "4218be10",
   "metadata": {},
   "outputs": [
    {
     "data": {
      "text/plain": [
       "'Star Wars'"
      ]
     },
     "execution_count": 17,
     "metadata": {},
     "output_type": "execute_result"
    }
   ],
   "source": [
    "movies['Name']"
   ]
  },
  {
   "cell_type": "code",
   "execution_count": 18,
   "id": "a0a9f1fc",
   "metadata": {},
   "outputs": [
    {
     "name": "stdout",
     "output_type": "stream",
     "text": [
      "Name\n",
      "Director\n",
      "Year\n",
      "Production\n"
     ]
    }
   ],
   "source": [
    "for key in movies:\n",
    "    print(key.title())"
   ]
  },
  {
   "cell_type": "code",
   "execution_count": 22,
   "id": "296467ec",
   "metadata": {},
   "outputs": [
    {
     "name": "stdout",
     "output_type": "stream",
     "text": [
      "Name => Star Wars\n",
      "Director => George Lucas\n",
      "Year => 1977\n",
      "Production => 20th Century Fox\n"
     ]
    }
   ],
   "source": [
    "for key in movies:\n",
    "    print(key.title(),'=>',movies[key])"
   ]
  },
  {
   "cell_type": "markdown",
   "id": "93eb233f",
   "metadata": {},
   "source": [
    "## Exceptions "
   ]
  },
  {
   "cell_type": "code",
   "execution_count": 25,
   "id": "810ced1e",
   "metadata": {},
   "outputs": [
    {
     "name": "stdout",
     "output_type": "stream",
     "text": [
      "not old enough, sorry\n"
     ]
    }
   ],
   "source": [
    "#let's start with the following validation\n",
    "edad = 17\n",
    "if edad > 18:\n",
    "    print('allowed to drink')\n",
    "else:\n",
    "    print('not old enough, sorry')"
   ]
  },
  {
   "cell_type": "code",
   "execution_count": 26,
   "id": "b376016c",
   "metadata": {},
   "outputs": [
    {
     "ename": "TypeError",
     "evalue": "'>' not supported between instances of 'str' and 'int'",
     "output_type": "error",
     "traceback": [
      "\u001b[0;31m---------------------------------------------------------------------------\u001b[0m",
      "\u001b[0;31mTypeError\u001b[0m                                 Traceback (most recent call last)",
      "Input \u001b[0;32mIn [26]\u001b[0m, in \u001b[0;36m<cell line: 3>\u001b[0;34m()\u001b[0m\n\u001b[1;32m      1\u001b[0m \u001b[38;5;66;03m#But what happens if the number is not written as number, but as a string?\u001b[39;00m\n\u001b[1;32m      2\u001b[0m edad \u001b[38;5;241m=\u001b[39m \u001b[38;5;124m'\u001b[39m\u001b[38;5;124m17\u001b[39m\u001b[38;5;124m'\u001b[39m\n\u001b[0;32m----> 3\u001b[0m \u001b[38;5;28;01mif\u001b[39;00m \u001b[43medad\u001b[49m\u001b[43m \u001b[49m\u001b[38;5;241;43m>\u001b[39;49m\u001b[43m \u001b[49m\u001b[38;5;241;43m18\u001b[39;49m:\n\u001b[1;32m      4\u001b[0m     \u001b[38;5;28mprint\u001b[39m(\u001b[38;5;124m'\u001b[39m\u001b[38;5;124mallowed to drink\u001b[39m\u001b[38;5;124m'\u001b[39m)\n\u001b[1;32m      5\u001b[0m \u001b[38;5;28;01melse\u001b[39;00m:\n",
      "\u001b[0;31mTypeError\u001b[0m: '>' not supported between instances of 'str' and 'int'"
     ]
    }
   ],
   "source": [
    "#But what happens if the number is not written as number, but as a string?\n",
    "edad = '17'\n",
    "if edad > 18:\n",
    "    print('allowed to drink')\n",
    "else:\n",
    "    print('not old enough, sorry')"
   ]
  },
  {
   "cell_type": "code",
   "execution_count": 28,
   "id": "35328481",
   "metadata": {},
   "outputs": [
    {
     "name": "stdout",
     "output_type": "stream",
     "text": [
      "hmmm... something is not working, check code\n"
     ]
    }
   ],
   "source": [
    "#System tells us that the operator > is not supported for str... let's use try instead:\n",
    "edad = '17'\n",
    "try:\n",
    "    if edad > 18:\n",
    "        print('allowed to drink')\n",
    "    else:\n",
    "        print('not old enough, sorry')\n",
    "except:\n",
    "    print('hmmm... something is not working, check code')"
   ]
  },
  {
   "cell_type": "code",
   "execution_count": 33,
   "id": "6f68ad56",
   "metadata": {},
   "outputs": [
    {
     "name": "stdout",
     "output_type": "stream",
     "text": [
      "check code, probably wrong type\n"
     ]
    }
   ],
   "source": [
    "\"\"\"\n",
    "so, now we are identifying that something is not right, but how to properly address it?\n",
    "we check the error above, which said:\n",
    "TypeError: > not supported between instances of str and int\n",
    "And now, we build it into the code\n",
    "\"\"\"\n",
    "edad = '17'\n",
    "try:\n",
    "    if edad > 18:\n",
    "        print('allowed to drink')\n",
    "    else:\n",
    "        print('not old enough, sorry')\n",
    "except TypeError:\n",
    "    print('check code, probably wrong type')"
   ]
  },
  {
   "cell_type": "code",
   "execution_count": null,
   "id": "ecbf0ee2",
   "metadata": {},
   "outputs": [],
   "source": []
  }
 ],
 "metadata": {
  "kernelspec": {
   "display_name": "Python 3 (ipykernel)",
   "language": "python",
   "name": "python3"
  },
  "language_info": {
   "codemirror_mode": {
    "name": "ipython",
    "version": 3
   },
   "file_extension": ".py",
   "mimetype": "text/x-python",
   "name": "python",
   "nbconvert_exporter": "python",
   "pygments_lexer": "ipython3",
   "version": "3.8.12"
  }
 },
 "nbformat": 4,
 "nbformat_minor": 5
}
